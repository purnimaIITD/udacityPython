{
  "nbformat": 4,
  "nbformat_minor": 0,
  "metadata": {
    "colab": {
      "name": "Untitled0.ipynb",
      "provenance": [],
      "include_colab_link": true
    },
    "kernelspec": {
      "name": "python3",
      "display_name": "Python 3"
    },
    "language_info": {
      "name": "python"
    }
  },
  "cells": [
    {
      "cell_type": "markdown",
      "metadata": {
        "id": "view-in-github",
        "colab_type": "text"
      },
      "source": [
        "<a href=\"https://colab.research.google.com/github/purnimaIITD/udacityPython/blob/main/breakTime.ipynb\" target=\"_parent\"><img src=\"https://colab.research.google.com/assets/colab-badge.svg\" alt=\"Open In Colab\"/></a>"
      ]
    },
    {
      "cell_type": "code",
      "metadata": {
        "id": "Zq_CYVU2zfnb",
        "outputId": "ac436d57-c1df-4463-fae8-9cd6fabb218e",
        "colab": {
          "base_uri": "https://localhost:8080/"
        }
      },
      "source": [
        "import webbrowser\n",
        "import time\n",
        "\n",
        "print(\"Going to sleep for 5 seconds\")\n",
        "time.sleep(5)\n",
        "print(\"Done\")"
      ],
      "execution_count": 6,
      "outputs": [
        {
          "output_type": "stream",
          "name": "stdout",
          "text": [
            "Going to sleep for 5 seconds\n",
            "Done\n"
          ]
        }
      ]
    }
  ]
}